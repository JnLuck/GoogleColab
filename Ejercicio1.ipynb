{
  "nbformat": 4,
  "nbformat_minor": 0,
  "metadata": {
    "colab": {
      "provenance": [],
      "authorship_tag": "ABX9TyNr3EgHeof0VPMg9DAA+nDW",
      "include_colab_link": true
    },
    "kernelspec": {
      "name": "python3",
      "display_name": "Python 3"
    },
    "language_info": {
      "name": "python"
    }
  },
  "cells": [
    {
      "cell_type": "markdown",
      "metadata": {
        "id": "view-in-github",
        "colab_type": "text"
      },
      "source": [
        "<a href=\"https://colab.research.google.com/github/JnLuck/GoogleColab/blob/main/Ejercicio1.ipynb\" target=\"_parent\"><img src=\"https://colab.research.google.com/assets/colab-badge.svg\" alt=\"Open In Colab\"/></a>"
      ]
    },
    {
      "cell_type": "markdown",
      "source": [
        "Ejercicio 1 - Carga de un archivo CSV desde Drive"
      ],
      "metadata": {
        "id": "3P-_WonNvAaF"
      }
    },
    {
      "cell_type": "code",
      "execution_count": null,
      "metadata": {
        "id": "YGw2WAQJuxs1"
      },
      "outputs": [],
      "source": [
        "# Importar pandas\n",
        "import pandas as pd"
      ]
    },
    {
      "cell_type": "code",
      "source": [
        "# Leer el archivo CSV\n",
        "datos = pd.read_csv(\"https://docs.google.com/spreadsheets/d/e/2PACX-1vQESWsEcowhB8ulu8tdbmuqPZpJkeL-O6zBCn2i09ARWRdJ0e3H_-f70fZ2U1mzgulILnOhklM0sFYT/pub?gid=1199936091&single=true&output=csv\")"
      ],
      "metadata": {
        "id": "-Sy9iUBru0Uk"
      },
      "execution_count": null,
      "outputs": []
    },
    {
      "cell_type": "code",
      "source": [
        "# Listar datos\n",
        "datos"
      ],
      "metadata": {
        "colab": {
          "base_uri": "https://localhost:8080/",
          "height": 771
        },
        "id": "Lz64QgVbu-gz",
        "outputId": "2e798cc5-af7d-4d33-f2e5-08c6a453f26d"
      },
      "execution_count": null,
      "outputs": [
        {
          "output_type": "execute_result",
          "data": {
            "text/plain": [
              "       nombre  edad    ciudad  ingresos\n",
              "0        Juan    30      Lima      2500\n",
              "1       María    28  Arequipa      3800\n",
              "2        Luis    35     Cusco      4800\n",
              "3         Ana    22  Trujillo      2000\n",
              "4       Pedro    28  Arequipa      3200\n",
              "5      Leonel    64   Juliaca      4980\n",
              "6       Laura    31      Lima      4200\n",
              "7      Carlos    25     Cusco      1800\n",
              "8       Sofía    29  Trujillo      2900\n",
              "9      Andrés    27      Lima      2600\n",
              "10   Gabriela    33  Arequipa      4000\n",
              "11    Micaela    21   Juliaca      5000\n",
              "12      Diego    24     Cusco      3200\n",
              "13  Valentina    26  Trujillo      3500\n",
              "14     Lorena    30      Lima      3800\n",
              "15     Javier    32  Arequipa      5000\n",
              "16    Daniela    29      Lima      2700\n",
              "17     Manuel    31  Trujillo      2700\n",
              "18   Fernanda    28     Cusco      2100\n",
              "19    Ricardo    35      Lima      4400\n",
              "20      Lucía    23  Trujillo      1500\n",
              "21       José    34  Arequipa      4200\n",
              "22      Willy    55      Puno      1300"
            ],
            "text/html": [
              "\n",
              "  <div id=\"df-a572449f-c1b7-4653-8e63-2aca7d37f544\" class=\"colab-df-container\">\n",
              "    <div>\n",
              "<style scoped>\n",
              "    .dataframe tbody tr th:only-of-type {\n",
              "        vertical-align: middle;\n",
              "    }\n",
              "\n",
              "    .dataframe tbody tr th {\n",
              "        vertical-align: top;\n",
              "    }\n",
              "\n",
              "    .dataframe thead th {\n",
              "        text-align: right;\n",
              "    }\n",
              "</style>\n",
              "<table border=\"1\" class=\"dataframe\">\n",
              "  <thead>\n",
              "    <tr style=\"text-align: right;\">\n",
              "      <th></th>\n",
              "      <th>nombre</th>\n",
              "      <th>edad</th>\n",
              "      <th>ciudad</th>\n",
              "      <th>ingresos</th>\n",
              "    </tr>\n",
              "  </thead>\n",
              "  <tbody>\n",
              "    <tr>\n",
              "      <th>0</th>\n",
              "      <td>Juan</td>\n",
              "      <td>30</td>\n",
              "      <td>Lima</td>\n",
              "      <td>2500</td>\n",
              "    </tr>\n",
              "    <tr>\n",
              "      <th>1</th>\n",
              "      <td>María</td>\n",
              "      <td>28</td>\n",
              "      <td>Arequipa</td>\n",
              "      <td>3800</td>\n",
              "    </tr>\n",
              "    <tr>\n",
              "      <th>2</th>\n",
              "      <td>Luis</td>\n",
              "      <td>35</td>\n",
              "      <td>Cusco</td>\n",
              "      <td>4800</td>\n",
              "    </tr>\n",
              "    <tr>\n",
              "      <th>3</th>\n",
              "      <td>Ana</td>\n",
              "      <td>22</td>\n",
              "      <td>Trujillo</td>\n",
              "      <td>2000</td>\n",
              "    </tr>\n",
              "    <tr>\n",
              "      <th>4</th>\n",
              "      <td>Pedro</td>\n",
              "      <td>28</td>\n",
              "      <td>Arequipa</td>\n",
              "      <td>3200</td>\n",
              "    </tr>\n",
              "    <tr>\n",
              "      <th>5</th>\n",
              "      <td>Leonel</td>\n",
              "      <td>64</td>\n",
              "      <td>Juliaca</td>\n",
              "      <td>4980</td>\n",
              "    </tr>\n",
              "    <tr>\n",
              "      <th>6</th>\n",
              "      <td>Laura</td>\n",
              "      <td>31</td>\n",
              "      <td>Lima</td>\n",
              "      <td>4200</td>\n",
              "    </tr>\n",
              "    <tr>\n",
              "      <th>7</th>\n",
              "      <td>Carlos</td>\n",
              "      <td>25</td>\n",
              "      <td>Cusco</td>\n",
              "      <td>1800</td>\n",
              "    </tr>\n",
              "    <tr>\n",
              "      <th>8</th>\n",
              "      <td>Sofía</td>\n",
              "      <td>29</td>\n",
              "      <td>Trujillo</td>\n",
              "      <td>2900</td>\n",
              "    </tr>\n",
              "    <tr>\n",
              "      <th>9</th>\n",
              "      <td>Andrés</td>\n",
              "      <td>27</td>\n",
              "      <td>Lima</td>\n",
              "      <td>2600</td>\n",
              "    </tr>\n",
              "    <tr>\n",
              "      <th>10</th>\n",
              "      <td>Gabriela</td>\n",
              "      <td>33</td>\n",
              "      <td>Arequipa</td>\n",
              "      <td>4000</td>\n",
              "    </tr>\n",
              "    <tr>\n",
              "      <th>11</th>\n",
              "      <td>Micaela</td>\n",
              "      <td>21</td>\n",
              "      <td>Juliaca</td>\n",
              "      <td>5000</td>\n",
              "    </tr>\n",
              "    <tr>\n",
              "      <th>12</th>\n",
              "      <td>Diego</td>\n",
              "      <td>24</td>\n",
              "      <td>Cusco</td>\n",
              "      <td>3200</td>\n",
              "    </tr>\n",
              "    <tr>\n",
              "      <th>13</th>\n",
              "      <td>Valentina</td>\n",
              "      <td>26</td>\n",
              "      <td>Trujillo</td>\n",
              "      <td>3500</td>\n",
              "    </tr>\n",
              "    <tr>\n",
              "      <th>14</th>\n",
              "      <td>Lorena</td>\n",
              "      <td>30</td>\n",
              "      <td>Lima</td>\n",
              "      <td>3800</td>\n",
              "    </tr>\n",
              "    <tr>\n",
              "      <th>15</th>\n",
              "      <td>Javier</td>\n",
              "      <td>32</td>\n",
              "      <td>Arequipa</td>\n",
              "      <td>5000</td>\n",
              "    </tr>\n",
              "    <tr>\n",
              "      <th>16</th>\n",
              "      <td>Daniela</td>\n",
              "      <td>29</td>\n",
              "      <td>Lima</td>\n",
              "      <td>2700</td>\n",
              "    </tr>\n",
              "    <tr>\n",
              "      <th>17</th>\n",
              "      <td>Manuel</td>\n",
              "      <td>31</td>\n",
              "      <td>Trujillo</td>\n",
              "      <td>2700</td>\n",
              "    </tr>\n",
              "    <tr>\n",
              "      <th>18</th>\n",
              "      <td>Fernanda</td>\n",
              "      <td>28</td>\n",
              "      <td>Cusco</td>\n",
              "      <td>2100</td>\n",
              "    </tr>\n",
              "    <tr>\n",
              "      <th>19</th>\n",
              "      <td>Ricardo</td>\n",
              "      <td>35</td>\n",
              "      <td>Lima</td>\n",
              "      <td>4400</td>\n",
              "    </tr>\n",
              "    <tr>\n",
              "      <th>20</th>\n",
              "      <td>Lucía</td>\n",
              "      <td>23</td>\n",
              "      <td>Trujillo</td>\n",
              "      <td>1500</td>\n",
              "    </tr>\n",
              "    <tr>\n",
              "      <th>21</th>\n",
              "      <td>José</td>\n",
              "      <td>34</td>\n",
              "      <td>Arequipa</td>\n",
              "      <td>4200</td>\n",
              "    </tr>\n",
              "    <tr>\n",
              "      <th>22</th>\n",
              "      <td>Willy</td>\n",
              "      <td>55</td>\n",
              "      <td>Puno</td>\n",
              "      <td>1300</td>\n",
              "    </tr>\n",
              "  </tbody>\n",
              "</table>\n",
              "</div>\n",
              "    <div class=\"colab-df-buttons\">\n",
              "\n",
              "  <div class=\"colab-df-container\">\n",
              "    <button class=\"colab-df-convert\" onclick=\"convertToInteractive('df-a572449f-c1b7-4653-8e63-2aca7d37f544')\"\n",
              "            title=\"Convert this dataframe to an interactive table.\"\n",
              "            style=\"display:none;\">\n",
              "\n",
              "  <svg xmlns=\"http://www.w3.org/2000/svg\" height=\"24px\" viewBox=\"0 -960 960 960\">\n",
              "    <path d=\"M120-120v-720h720v720H120Zm60-500h600v-160H180v160Zm220 220h160v-160H400v160Zm0 220h160v-160H400v160ZM180-400h160v-160H180v160Zm440 0h160v-160H620v160ZM180-180h160v-160H180v160Zm440 0h160v-160H620v160Z\"/>\n",
              "  </svg>\n",
              "    </button>\n",
              "\n",
              "  <style>\n",
              "    .colab-df-container {\n",
              "      display:flex;\n",
              "      gap: 12px;\n",
              "    }\n",
              "\n",
              "    .colab-df-convert {\n",
              "      background-color: #E8F0FE;\n",
              "      border: none;\n",
              "      border-radius: 50%;\n",
              "      cursor: pointer;\n",
              "      display: none;\n",
              "      fill: #1967D2;\n",
              "      height: 32px;\n",
              "      padding: 0 0 0 0;\n",
              "      width: 32px;\n",
              "    }\n",
              "\n",
              "    .colab-df-convert:hover {\n",
              "      background-color: #E2EBFA;\n",
              "      box-shadow: 0px 1px 2px rgba(60, 64, 67, 0.3), 0px 1px 3px 1px rgba(60, 64, 67, 0.15);\n",
              "      fill: #174EA6;\n",
              "    }\n",
              "\n",
              "    .colab-df-buttons div {\n",
              "      margin-bottom: 4px;\n",
              "    }\n",
              "\n",
              "    [theme=dark] .colab-df-convert {\n",
              "      background-color: #3B4455;\n",
              "      fill: #D2E3FC;\n",
              "    }\n",
              "\n",
              "    [theme=dark] .colab-df-convert:hover {\n",
              "      background-color: #434B5C;\n",
              "      box-shadow: 0px 1px 3px 1px rgba(0, 0, 0, 0.15);\n",
              "      filter: drop-shadow(0px 1px 2px rgba(0, 0, 0, 0.3));\n",
              "      fill: #FFFFFF;\n",
              "    }\n",
              "  </style>\n",
              "\n",
              "    <script>\n",
              "      const buttonEl =\n",
              "        document.querySelector('#df-a572449f-c1b7-4653-8e63-2aca7d37f544 button.colab-df-convert');\n",
              "      buttonEl.style.display =\n",
              "        google.colab.kernel.accessAllowed ? 'block' : 'none';\n",
              "\n",
              "      async function convertToInteractive(key) {\n",
              "        const element = document.querySelector('#df-a572449f-c1b7-4653-8e63-2aca7d37f544');\n",
              "        const dataTable =\n",
              "          await google.colab.kernel.invokeFunction('convertToInteractive',\n",
              "                                                    [key], {});\n",
              "        if (!dataTable) return;\n",
              "\n",
              "        const docLinkHtml = 'Like what you see? Visit the ' +\n",
              "          '<a target=\"_blank\" href=https://colab.research.google.com/notebooks/data_table.ipynb>data table notebook</a>'\n",
              "          + ' to learn more about interactive tables.';\n",
              "        element.innerHTML = '';\n",
              "        dataTable['output_type'] = 'display_data';\n",
              "        await google.colab.output.renderOutput(dataTable, element);\n",
              "        const docLink = document.createElement('div');\n",
              "        docLink.innerHTML = docLinkHtml;\n",
              "        element.appendChild(docLink);\n",
              "      }\n",
              "    </script>\n",
              "  </div>\n",
              "\n",
              "\n",
              "<div id=\"df-5a513208-a890-46e0-9eab-8d07ed828bdc\">\n",
              "  <button class=\"colab-df-quickchart\" onclick=\"quickchart('df-5a513208-a890-46e0-9eab-8d07ed828bdc')\"\n",
              "            title=\"Suggest charts\"\n",
              "            style=\"display:none;\">\n",
              "\n",
              "<svg xmlns=\"http://www.w3.org/2000/svg\" height=\"24px\"viewBox=\"0 0 24 24\"\n",
              "     width=\"24px\">\n",
              "    <g>\n",
              "        <path d=\"M19 3H5c-1.1 0-2 .9-2 2v14c0 1.1.9 2 2 2h14c1.1 0 2-.9 2-2V5c0-1.1-.9-2-2-2zM9 17H7v-7h2v7zm4 0h-2V7h2v10zm4 0h-2v-4h2v4z\"/>\n",
              "    </g>\n",
              "</svg>\n",
              "  </button>\n",
              "\n",
              "<style>\n",
              "  .colab-df-quickchart {\n",
              "      --bg-color: #E8F0FE;\n",
              "      --fill-color: #1967D2;\n",
              "      --hover-bg-color: #E2EBFA;\n",
              "      --hover-fill-color: #174EA6;\n",
              "      --disabled-fill-color: #AAA;\n",
              "      --disabled-bg-color: #DDD;\n",
              "  }\n",
              "\n",
              "  [theme=dark] .colab-df-quickchart {\n",
              "      --bg-color: #3B4455;\n",
              "      --fill-color: #D2E3FC;\n",
              "      --hover-bg-color: #434B5C;\n",
              "      --hover-fill-color: #FFFFFF;\n",
              "      --disabled-bg-color: #3B4455;\n",
              "      --disabled-fill-color: #666;\n",
              "  }\n",
              "\n",
              "  .colab-df-quickchart {\n",
              "    background-color: var(--bg-color);\n",
              "    border: none;\n",
              "    border-radius: 50%;\n",
              "    cursor: pointer;\n",
              "    display: none;\n",
              "    fill: var(--fill-color);\n",
              "    height: 32px;\n",
              "    padding: 0;\n",
              "    width: 32px;\n",
              "  }\n",
              "\n",
              "  .colab-df-quickchart:hover {\n",
              "    background-color: var(--hover-bg-color);\n",
              "    box-shadow: 0 1px 2px rgba(60, 64, 67, 0.3), 0 1px 3px 1px rgba(60, 64, 67, 0.15);\n",
              "    fill: var(--button-hover-fill-color);\n",
              "  }\n",
              "\n",
              "  .colab-df-quickchart-complete:disabled,\n",
              "  .colab-df-quickchart-complete:disabled:hover {\n",
              "    background-color: var(--disabled-bg-color);\n",
              "    fill: var(--disabled-fill-color);\n",
              "    box-shadow: none;\n",
              "  }\n",
              "\n",
              "  .colab-df-spinner {\n",
              "    border: 2px solid var(--fill-color);\n",
              "    border-color: transparent;\n",
              "    border-bottom-color: var(--fill-color);\n",
              "    animation:\n",
              "      spin 1s steps(1) infinite;\n",
              "  }\n",
              "\n",
              "  @keyframes spin {\n",
              "    0% {\n",
              "      border-color: transparent;\n",
              "      border-bottom-color: var(--fill-color);\n",
              "      border-left-color: var(--fill-color);\n",
              "    }\n",
              "    20% {\n",
              "      border-color: transparent;\n",
              "      border-left-color: var(--fill-color);\n",
              "      border-top-color: var(--fill-color);\n",
              "    }\n",
              "    30% {\n",
              "      border-color: transparent;\n",
              "      border-left-color: var(--fill-color);\n",
              "      border-top-color: var(--fill-color);\n",
              "      border-right-color: var(--fill-color);\n",
              "    }\n",
              "    40% {\n",
              "      border-color: transparent;\n",
              "      border-right-color: var(--fill-color);\n",
              "      border-top-color: var(--fill-color);\n",
              "    }\n",
              "    60% {\n",
              "      border-color: transparent;\n",
              "      border-right-color: var(--fill-color);\n",
              "    }\n",
              "    80% {\n",
              "      border-color: transparent;\n",
              "      border-right-color: var(--fill-color);\n",
              "      border-bottom-color: var(--fill-color);\n",
              "    }\n",
              "    90% {\n",
              "      border-color: transparent;\n",
              "      border-bottom-color: var(--fill-color);\n",
              "    }\n",
              "  }\n",
              "</style>\n",
              "\n",
              "  <script>\n",
              "    async function quickchart(key) {\n",
              "      const quickchartButtonEl =\n",
              "        document.querySelector('#' + key + ' button');\n",
              "      quickchartButtonEl.disabled = true;  // To prevent multiple clicks.\n",
              "      quickchartButtonEl.classList.add('colab-df-spinner');\n",
              "      try {\n",
              "        const charts = await google.colab.kernel.invokeFunction(\n",
              "            'suggestCharts', [key], {});\n",
              "      } catch (error) {\n",
              "        console.error('Error during call to suggestCharts:', error);\n",
              "      }\n",
              "      quickchartButtonEl.classList.remove('colab-df-spinner');\n",
              "      quickchartButtonEl.classList.add('colab-df-quickchart-complete');\n",
              "    }\n",
              "    (() => {\n",
              "      let quickchartButtonEl =\n",
              "        document.querySelector('#df-5a513208-a890-46e0-9eab-8d07ed828bdc button');\n",
              "      quickchartButtonEl.style.display =\n",
              "        google.colab.kernel.accessAllowed ? 'block' : 'none';\n",
              "    })();\n",
              "  </script>\n",
              "</div>\n",
              "\n",
              "  <div id=\"id_5bf853c8-5f93-4daf-8a5c-3471fdfdf277\">\n",
              "    <style>\n",
              "      .colab-df-generate {\n",
              "        background-color: #E8F0FE;\n",
              "        border: none;\n",
              "        border-radius: 50%;\n",
              "        cursor: pointer;\n",
              "        display: none;\n",
              "        fill: #1967D2;\n",
              "        height: 32px;\n",
              "        padding: 0 0 0 0;\n",
              "        width: 32px;\n",
              "      }\n",
              "\n",
              "      .colab-df-generate:hover {\n",
              "        background-color: #E2EBFA;\n",
              "        box-shadow: 0px 1px 2px rgba(60, 64, 67, 0.3), 0px 1px 3px 1px rgba(60, 64, 67, 0.15);\n",
              "        fill: #174EA6;\n",
              "      }\n",
              "\n",
              "      [theme=dark] .colab-df-generate {\n",
              "        background-color: #3B4455;\n",
              "        fill: #D2E3FC;\n",
              "      }\n",
              "\n",
              "      [theme=dark] .colab-df-generate:hover {\n",
              "        background-color: #434B5C;\n",
              "        box-shadow: 0px 1px 3px 1px rgba(0, 0, 0, 0.15);\n",
              "        filter: drop-shadow(0px 1px 2px rgba(0, 0, 0, 0.3));\n",
              "        fill: #FFFFFF;\n",
              "      }\n",
              "    </style>\n",
              "    <button class=\"colab-df-generate\" onclick=\"generateWithVariable('datos')\"\n",
              "            title=\"Generate code using this dataframe.\"\n",
              "            style=\"display:none;\">\n",
              "\n",
              "  <svg xmlns=\"http://www.w3.org/2000/svg\" height=\"24px\"viewBox=\"0 0 24 24\"\n",
              "       width=\"24px\">\n",
              "    <path d=\"M7,19H8.4L18.45,9,17,7.55,7,17.6ZM5,21V16.75L18.45,3.32a2,2,0,0,1,2.83,0l1.4,1.43a1.91,1.91,0,0,1,.58,1.4,1.91,1.91,0,0,1-.58,1.4L9.25,21ZM18.45,9,17,7.55Zm-12,3A5.31,5.31,0,0,0,4.9,8.1,5.31,5.31,0,0,0,1,6.5,5.31,5.31,0,0,0,4.9,4.9,5.31,5.31,0,0,0,6.5,1,5.31,5.31,0,0,0,8.1,4.9,5.31,5.31,0,0,0,12,6.5,5.46,5.46,0,0,0,6.5,12Z\"/>\n",
              "  </svg>\n",
              "    </button>\n",
              "    <script>\n",
              "      (() => {\n",
              "      const buttonEl =\n",
              "        document.querySelector('#id_5bf853c8-5f93-4daf-8a5c-3471fdfdf277 button.colab-df-generate');\n",
              "      buttonEl.style.display =\n",
              "        google.colab.kernel.accessAllowed ? 'block' : 'none';\n",
              "\n",
              "      buttonEl.onclick = () => {\n",
              "        google.colab.notebook.generateWithVariable('datos');\n",
              "      }\n",
              "      })();\n",
              "    </script>\n",
              "  </div>\n",
              "\n",
              "    </div>\n",
              "  </div>\n"
            ],
            "application/vnd.google.colaboratory.intrinsic+json": {
              "type": "dataframe",
              "variable_name": "datos",
              "summary": "{\n  \"name\": \"datos\",\n  \"rows\": 23,\n  \"fields\": [\n    {\n      \"column\": \"nombre\",\n      \"properties\": {\n        \"dtype\": \"string\",\n        \"num_unique_values\": 23,\n        \"samples\": [\n          \"Javier\",\n          \"Andr\\u00e9s\",\n          \"Juan\"\n        ],\n        \"semantic_type\": \"\",\n        \"description\": \"\"\n      }\n    },\n    {\n      \"column\": \"edad\",\n      \"properties\": {\n        \"dtype\": \"number\",\n        \"std\": 9,\n        \"min\": 21,\n        \"max\": 64,\n        \"num_unique_values\": 17,\n        \"samples\": [\n          30,\n          28,\n          31\n        ],\n        \"semantic_type\": \"\",\n        \"description\": \"\"\n      }\n    },\n    {\n      \"column\": \"ciudad\",\n      \"properties\": {\n        \"dtype\": \"category\",\n        \"num_unique_values\": 6,\n        \"samples\": [\n          \"Lima\",\n          \"Arequipa\",\n          \"Puno\"\n        ],\n        \"semantic_type\": \"\",\n        \"description\": \"\"\n      }\n    },\n    {\n      \"column\": \"ingresos\",\n      \"properties\": {\n        \"dtype\": \"number\",\n        \"std\": 1155,\n        \"min\": 1300,\n        \"max\": 5000,\n        \"num_unique_values\": 18,\n        \"samples\": [\n          2500,\n          3800,\n          2900\n        ],\n        \"semantic_type\": \"\",\n        \"description\": \"\"\n      }\n    }\n  ]\n}"
            }
          },
          "metadata": {},
          "execution_count": 3
        }
      ]
    },
    {
      "cell_type": "markdown",
      "source": [
        "a. Suma de la columna ingresos"
      ],
      "metadata": {
        "id": "hxbstwstKSwZ"
      }
    },
    {
      "cell_type": "code",
      "source": [
        "# Calcular la suma de ingresos\n",
        "\n",
        "s_ingresos = datos['ingresos'].sum()\n",
        "print(\"La suma es\", s_ingresos)"
      ],
      "metadata": {
        "id": "6eHjx0ugwkIr",
        "colab": {
          "base_uri": "https://localhost:8080/"
        },
        "outputId": "acba00a9-49d7-4146-f94e-fc28abbb2a19"
      },
      "execution_count": null,
      "outputs": [
        {
          "output_type": "stream",
          "name": "stdout",
          "text": [
            "La suma es 76180\n"
          ]
        }
      ]
    },
    {
      "cell_type": "markdown",
      "source": [
        "b. Promedio de edad\n",
        "\n"
      ],
      "metadata": {
        "id": "zaDDJgR6KZcT"
      }
    },
    {
      "cell_type": "code",
      "source": [
        "# Calcular el promedio de edad\n",
        "\n",
        "p_edad = datos['edad'].mean()\n",
        "print(\"El promedio de edad es\", int(p_edad))"
      ],
      "metadata": {
        "colab": {
          "base_uri": "https://localhost:8080/"
        },
        "id": "OAEkor6sxOd7",
        "outputId": "8806d8af-79fb-4f3f-b6a7-4df9b50f959b"
      },
      "execution_count": null,
      "outputs": [
        {
          "output_type": "stream",
          "name": "stdout",
          "text": [
            "El promedio de edad es 31\n"
          ]
        }
      ]
    },
    {
      "cell_type": "markdown",
      "source": [
        "c. Filtro por ciudad, \"Arequipa\""
      ],
      "metadata": {
        "id": "2rD4VqztKfEL"
      }
    },
    {
      "cell_type": "code",
      "source": [
        "# Filtrar las personas que están en Arequipa\n",
        "\n",
        "personas_arequipa = datos[datos['ciudad'] == 'Arequipa']\n",
        "\n",
        "print(\"Personas que están en Arequipa:\")\n",
        "print(personas_arequipa)"
      ],
      "metadata": {
        "colab": {
          "base_uri": "https://localhost:8080/"
        },
        "id": "iWSCvVXmx0R9",
        "outputId": "6e0decbe-7951-4ab4-ebc7-1a9a8df9958b"
      },
      "execution_count": null,
      "outputs": [
        {
          "output_type": "stream",
          "name": "stdout",
          "text": [
            "Personas que están en Arequipa:\n",
            "      nombre  edad    ciudad  ingresos\n",
            "1      María    28  Arequipa      3800\n",
            "4      Pedro    28  Arequipa      3200\n",
            "10  Gabriela    33  Arequipa      4000\n",
            "15    Javier    32  Arequipa      5000\n",
            "21      José    34  Arequipa      4200\n"
          ]
        }
      ]
    },
    {
      "cell_type": "markdown",
      "source": [
        "d. Promedio de ingresos por ciudad"
      ],
      "metadata": {
        "id": "jzEvsN8eKspn"
      }
    },
    {
      "cell_type": "code",
      "source": [
        "# Calcular el promedio de sueldo por ciudad\n",
        "\n",
        "promedio_sueldo_por_ciudad = datos.groupby('ciudad')['ingresos'].mean().astype(int);\n",
        "\n",
        "print(\"Promedio de sueldo por ciudades:\")\n",
        "print(promedio_sueldo_por_ciudad)"
      ],
      "metadata": {
        "colab": {
          "base_uri": "https://localhost:8080/"
        },
        "id": "16IFp3481EQt",
        "outputId": "3c162ff5-b966-47f0-99bc-ed9c416e0a47"
      },
      "execution_count": null,
      "outputs": [
        {
          "output_type": "stream",
          "name": "stdout",
          "text": [
            "Promedio de sueldo por ciudades:\n",
            "ciudad\n",
            "Arequipa    4040\n",
            "Cusco       2975\n",
            "Juliaca     4990\n",
            "Lima        3366\n",
            "Puno        1300\n",
            "Trujillo    2520\n",
            "Name: ingresos, dtype: int64\n"
          ]
        }
      ]
    },
    {
      "cell_type": "markdown",
      "source": [
        "e. Persona más joven y más mayor"
      ],
      "metadata": {
        "id": "2BGuFG7-Kzh_"
      }
    },
    {
      "cell_type": "code",
      "source": [
        "# Filtrar por edad de la más joven a la más mayor(Nombre y Edad)\n",
        "\n",
        "datos_ordenados = datos.drop(columns=['ciudad', 'ingresos']).sort_values(by='edad')\n",
        "print(datos_ordenados)"
      ],
      "metadata": {
        "colab": {
          "base_uri": "https://localhost:8080/"
        },
        "id": "O71eLWkP6Zum",
        "outputId": "9836df74-023a-498e-b244-4572d9e77c4a"
      },
      "execution_count": null,
      "outputs": [
        {
          "output_type": "stream",
          "name": "stdout",
          "text": [
            "       nombre  edad\n",
            "11    Micaela    21\n",
            "3         Ana    22\n",
            "20      Lucía    23\n",
            "12      Diego    24\n",
            "7      Carlos    25\n",
            "13  Valentina    26\n",
            "9      Andrés    27\n",
            "1       María    28\n",
            "4       Pedro    28\n",
            "18   Fernanda    28\n",
            "16    Daniela    29\n",
            "8       Sofía    29\n",
            "14     Lorena    30\n",
            "0        Juan    30\n",
            "6       Laura    31\n",
            "17     Manuel    31\n",
            "15     Javier    32\n",
            "10   Gabriela    33\n",
            "21       José    34\n",
            "19    Ricardo    35\n",
            "2        Luis    35\n",
            "22      Willy    55\n",
            "5      Leonel    64\n"
          ]
        }
      ]
    },
    {
      "cell_type": "code",
      "source": [
        "# Encontrar la persona más joven y mas mayor\n",
        "\n",
        "persona_mas_joven = datos.loc[datos['edad'].idxmin()]\n",
        "\n",
        "persona_mayor = datos.loc[datos['edad'].idxmax()]\n",
        "\n",
        "print(\"Persona más joven:\")\n",
        "print(persona_mas_joven)\n",
        "print(\"\\nPersona mayor:\")\n",
        "print(persona_mayor)"
      ],
      "metadata": {
        "colab": {
          "base_uri": "https://localhost:8080/"
        },
        "id": "LZWo54nK3PXp",
        "outputId": "de3e892e-b4bf-4624-d56b-a8dc2c2df3b9"
      },
      "execution_count": null,
      "outputs": [
        {
          "output_type": "stream",
          "name": "stdout",
          "text": [
            "Persona más joven:\n",
            "nombre      Micaela\n",
            "edad             21\n",
            "ciudad      Juliaca\n",
            "ingresos       5000\n",
            "Name: 11, dtype: object\n",
            "\n",
            "Persona mayor:\n",
            "nombre       Leonel\n",
            "edad             64\n",
            "ciudad      Juliaca\n",
            "ingresos       4980\n",
            "Name: 5, dtype: object\n"
          ]
        }
      ]
    },
    {
      "cell_type": "markdown",
      "source": [
        "f. Conteo por ciudad"
      ],
      "metadata": {
        "id": "S7dvKdrtLBKA"
      }
    },
    {
      "cell_type": "code",
      "source": [
        "# Calcular el promedio de edad por ciudad (ordenado de mayor a menor)\n",
        "\n",
        "promedio_edad_por_ciudad = datos.groupby('ciudad')['edad'].mean().astype(int)\n",
        "\n",
        "promedio_edad_por_ciudad = promedio_edad_por_ciudad.sort_values(ascending=False)\n",
        "\n",
        "print(\"Promedio de edad por ciudad (ordenado de mayor a menor):\")\n",
        "print(promedio_edad_por_ciudad)"
      ],
      "metadata": {
        "colab": {
          "base_uri": "https://localhost:8080/"
        },
        "id": "iVXS9euR3xwC",
        "outputId": "cdfba2d1-e589-490d-9a24-a14b3e43cfb5"
      },
      "execution_count": null,
      "outputs": [
        {
          "output_type": "stream",
          "name": "stdout",
          "text": [
            "Promedio de edad por ciudad (ordenado de mayor a menor):\n",
            "ciudad\n",
            "Puno        55\n",
            "Juliaca     42\n",
            "Arequipa    31\n",
            "Lima        30\n",
            "Cusco       28\n",
            "Trujillo    26\n",
            "Name: edad, dtype: int64\n"
          ]
        }
      ]
    },
    {
      "cell_type": "code",
      "source": [
        "# Calcular el promedio de edad por ciudad\n",
        "\n",
        "promedio_edad_por_ciudad = datos.groupby('ciudad')['edad'].mean().astype(int);\n",
        "\n",
        "print(\"Promedio de edad por ciudad:\")\n",
        "print(promedio_edad_por_ciudad)"
      ],
      "metadata": {
        "colab": {
          "base_uri": "https://localhost:8080/"
        },
        "id": "Hop97CQN2bAp",
        "outputId": "fa330298-a09d-4831-d781-44c22db2adcd"
      },
      "execution_count": null,
      "outputs": [
        {
          "output_type": "stream",
          "name": "stdout",
          "text": [
            "Promedio de edad por ciudad:\n",
            "ciudad\n",
            "Arequipa    31\n",
            "Cusco       28\n",
            "Juliaca     42\n",
            "Lima        30\n",
            "Puno        55\n",
            "Trujillo    26\n",
            "Name: edad, dtype: int64\n"
          ]
        }
      ]
    },
    {
      "cell_type": "markdown",
      "source": [
        "g. Orden de edad"
      ],
      "metadata": {
        "id": "ZFWG2-trLV4o"
      }
    },
    {
      "cell_type": "code",
      "source": [
        "# Filtrar por orden de edad\n",
        "\n",
        "datos_ordenados = datos.sort_values(by='edad')\n",
        "\n",
        "print(\"Personas ordenadas de la más joven a la más mayor:\")\n",
        "print(datos_ordenados)"
      ],
      "metadata": {
        "colab": {
          "base_uri": "https://localhost:8080/"
        },
        "id": "_eJzcJDp2Lia",
        "outputId": "442698b3-9522-42a8-a89c-2e39353c82ad"
      },
      "execution_count": null,
      "outputs": [
        {
          "output_type": "stream",
          "name": "stdout",
          "text": [
            "Personas ordenadas de la más joven a la más mayor:\n",
            "       nombre  edad    ciudad  ingresos\n",
            "11    Micaela    21   Juliaca      5000\n",
            "3         Ana    22  Trujillo      2000\n",
            "20      Lucía    23  Trujillo      1500\n",
            "12      Diego    24     Cusco      3200\n",
            "7      Carlos    25     Cusco      1800\n",
            "13  Valentina    26  Trujillo      3500\n",
            "9      Andrés    27      Lima      2600\n",
            "1       María    28  Arequipa      3800\n",
            "4       Pedro    28  Arequipa      3200\n",
            "18   Fernanda    28     Cusco      2100\n",
            "16    Daniela    29      Lima      2700\n",
            "8       Sofía    29  Trujillo      2900\n",
            "14     Lorena    30      Lima      3800\n",
            "0        Juan    30      Lima      2500\n",
            "6       Laura    31      Lima      4200\n",
            "17     Manuel    31  Trujillo      2700\n",
            "15     Javier    32  Arequipa      5000\n",
            "10   Gabriela    33  Arequipa      4000\n",
            "21       José    34  Arequipa      4200\n",
            "19    Ricardo    35      Lima      4400\n",
            "2        Luis    35     Cusco      4800\n",
            "22      Willy    55      Puno      1300\n",
            "5      Leonel    64   Juliaca      4980\n"
          ]
        }
      ]
    },
    {
      "cell_type": "markdown",
      "source": [],
      "metadata": {
        "id": "zgOlYpqwLTM3"
      }
    },
    {
      "cell_type": "markdown",
      "source": [
        "Cantidad de personas por ciudad"
      ],
      "metadata": {
        "id": "c_y7QWcaLq8U"
      }
    },
    {
      "cell_type": "code",
      "source": [
        "# Calcular la cantidad de personas por ciudad\n",
        "\n",
        "reporte_cantidad_personas_por_ciudad = datos['ciudad'].value_counts()\n",
        "\n",
        "\n",
        "print(\"Reporte de cantidad de personas por ciudad:\")\n",
        "print(reporte_cantidad_personas_por_ciudad)"
      ],
      "metadata": {
        "colab": {
          "base_uri": "https://localhost:8080/"
        },
        "id": "4kIj-ZH_4_SQ",
        "outputId": "e3054a74-eb6d-490d-e745-cb6a0669b70b"
      },
      "execution_count": null,
      "outputs": [
        {
          "output_type": "stream",
          "name": "stdout",
          "text": [
            "Reporte de cantidad de personas por ciudad:\n",
            "Lima        6\n",
            "Arequipa    5\n",
            "Trujillo    5\n",
            "Cusco       4\n",
            "Juliaca     2\n",
            "Puno        1\n",
            "Name: ciudad, dtype: int64\n"
          ]
        }
      ]
    },
    {
      "cell_type": "markdown",
      "source": [
        "TRABAJO"
      ],
      "metadata": {
        "id": "buXSoWNOHR_6"
      }
    },
    {
      "cell_type": "markdown",
      "source": [
        "h. Promedio de ingresos de mayores de 30 años."
      ],
      "metadata": {
        "id": "wdC5_YDKHacy"
      }
    },
    {
      "cell_type": "code",
      "source": [
        "# Calcular el promedio de ingresos de personas mayores de 30 años\n",
        "\n",
        "promedio_ingresos_mayores_30 = datos[datos['edad'] > 30]['ingresos'].mean().astype(int)\n",
        "\n",
        "print(\"Promedio de ingresos de mayores de 30 años:\", promedio_ingresos_mayores_30)"
      ],
      "metadata": {
        "colab": {
          "base_uri": "https://localhost:8080/"
        },
        "id": "JerAX2LuH3mh",
        "outputId": "c285c5fe-795f-4bad-a706-4b8bf4603cfb"
      },
      "execution_count": 35,
      "outputs": [
        {
          "output_type": "stream",
          "name": "stdout",
          "text": [
            "Promedio de ingresos de mayores de 30 años: 3953\n"
          ]
        }
      ]
    },
    {
      "cell_type": "markdown",
      "source": [
        "i. Ingresos totales por ciudades."
      ],
      "metadata": {
        "id": "NAqis-noHfjE"
      }
    },
    {
      "cell_type": "code",
      "source": [
        "# Calcular los ingresos totales por ciudades\n",
        "\n",
        "ingresos_totales_por_ciudad = datos.groupby('ciudad')['ingresos'].sum()\n",
        "\n",
        "print(\"Ingresos totales por ciudades:\")\n",
        "print(ingresos_totales_por_ciudad)"
      ],
      "metadata": {
        "colab": {
          "base_uri": "https://localhost:8080/"
        },
        "id": "cbk2KuP9IQ8q",
        "outputId": "c1a6b7af-0d39-4e65-8432-57b2ee1c2c66"
      },
      "execution_count": 36,
      "outputs": [
        {
          "output_type": "stream",
          "name": "stdout",
          "text": [
            "Ingresos totales por ciudades:\n",
            "ciudad\n",
            "Arequipa    20200\n",
            "Cusco       11900\n",
            "Juliaca      9980\n",
            "Lima        20200\n",
            "Puno         1300\n",
            "Trujillo    12600\n",
            "Name: ingresos, dtype: int64\n"
          ]
        }
      ]
    },
    {
      "cell_type": "markdown",
      "source": [
        "j. Persona con el ingreso mas alto"
      ],
      "metadata": {
        "id": "qsy2HJlxHknq"
      }
    },
    {
      "cell_type": "code",
      "source": [
        "# Encontrar la persona con el ingreso más alto\n",
        "\n",
        "persona_ingreso_mas_alto = datos.loc[datos['ingresos'].idxmax()]\n",
        "\n",
        "print(\"Persona con el ingreso más alto:\")\n",
        "print(persona_ingreso_mas_alto)"
      ],
      "metadata": {
        "colab": {
          "base_uri": "https://localhost:8080/"
        },
        "id": "42NitBWsIaxr",
        "outputId": "61556c8c-0f1d-490a-8d49-b188c6e7b16d"
      },
      "execution_count": 37,
      "outputs": [
        {
          "output_type": "stream",
          "name": "stdout",
          "text": [
            "Persona con el ingreso más alto:\n",
            "nombre      Micaela\n",
            "edad             21\n",
            "ciudad      Juliaca\n",
            "ingresos       5000\n",
            "Name: 11, dtype: object\n"
          ]
        }
      ]
    },
    {
      "cell_type": "markdown",
      "source": [
        "k. Crear un histograma de edades."
      ],
      "metadata": {
        "id": "2pdGH9mUHp3S"
      }
    },
    {
      "cell_type": "code",
      "source": [
        "import matplotlib.pyplot as plt"
      ],
      "metadata": {
        "id": "ZtONKb_cIwTp"
      },
      "execution_count": 39,
      "outputs": []
    },
    {
      "cell_type": "code",
      "source": [
        "# Crear el histograma de edades\n",
        "plt.hist(datos['edad'], bins=30, color='skyblue', edgecolor='black')\n",
        "\n",
        "# Agregar etiquetas y título\n",
        "plt.xlabel('Edad')\n",
        "plt.ylabel('Frecuencia')\n",
        "plt.title('Histograma de Edades')\n",
        "\n",
        "# Mostrar el histograma\n",
        "plt.show()"
      ],
      "metadata": {
        "colab": {
          "base_uri": "https://localhost:8080/",
          "height": 472
        },
        "id": "ZABZio1dI1b4",
        "outputId": "f0a04493-62b5-49b0-a509-67e979624aca"
      },
      "execution_count": 40,
      "outputs": [
        {
          "output_type": "display_data",
          "data": {
            "text/plain": [
              "<Figure size 640x480 with 1 Axes>"
            ],
            "image/png": "[encoded data removed]"
          },
          "metadata": {}
        }
      ]
    },
    {
      "cell_type": "markdown",
      "source": [
        "l. Agregar una columna de impuestos que represente el 10% de los ingresos."
      ],
      "metadata": {
        "id": "zlRIkmj0HudJ"
      }
    },
    {
      "cell_type": "code",
      "source": [
        "# Calcular el impuesto como el 10% de los ingresos para todas las filas\n",
        "\n",
        "datos['impuestos'] = (datos['ingresos'] * 0.10).astype(int)\n",
        "\n",
        "# Mostrar el DataFrame con la nueva columna de impuestos\n",
        "print(datos)"
      ],
      "metadata": {
        "colab": {
          "base_uri": "https://localhost:8080/"
        },
        "id": "BQi-jVCFJKVp",
        "outputId": "912b6195-98bf-4a34-db74-f13f5f21e117"
      },
      "execution_count": 45,
      "outputs": [
        {
          "output_type": "stream",
          "name": "stdout",
          "text": [
            "       nombre  edad    ciudad  ingresos  impuestos\n",
            "0        Juan    30      Lima      2500        250\n",
            "1       María    28  Arequipa      3800        380\n",
            "2        Luis    35     Cusco      4800        480\n",
            "3         Ana    22  Trujillo      2000        200\n",
            "4       Pedro    28  Arequipa      3200        320\n",
            "5      Leonel    64   Juliaca      4980        498\n",
            "6       Laura    31      Lima      4200        420\n",
            "7      Carlos    25     Cusco      1800        180\n",
            "8       Sofía    29  Trujillo      2900        290\n",
            "9      Andrés    27      Lima      2600        260\n",
            "10   Gabriela    33  Arequipa      4000        400\n",
            "11    Micaela    21   Juliaca      5000        500\n",
            "12      Diego    24     Cusco      3200        320\n",
            "13  Valentina    26  Trujillo      3500        350\n",
            "14     Lorena    30      Lima      3800        380\n",
            "15     Javier    32  Arequipa      5000        500\n",
            "16    Daniela    29      Lima      2700        270\n",
            "17     Manuel    31  Trujillo      2700        270\n",
            "18   Fernanda    28     Cusco      2100        210\n",
            "19    Ricardo    35      Lima      4400        440\n",
            "20      Lucía    23  Trujillo      1500        150\n",
            "21       José    34  Arequipa      4200        420\n",
            "22      Willy    55      Puno      1300        130\n"
          ]
        }
      ]
    }
  ]
}